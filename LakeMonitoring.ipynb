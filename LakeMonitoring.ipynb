{
  "nbformat": 4,
  "nbformat_minor": 0,
  "metadata": {
    "colab": {
      "provenance": [],
      "authorship_tag": "ABX9TyO1FvI47M+7SW4JcuvoW3pS",
      "include_colab_link": true
    },
    "kernelspec": {
      "name": "python3",
      "display_name": "Python 3"
    },
    "language_info": {
      "name": "python"
    }
  },
  "cells": [
    {
      "cell_type": "markdown",
      "metadata": {
        "id": "view-in-github",
        "colab_type": "text"
      },
      "source": [
        "<a href=\"https://colab.research.google.com/github/SaeidDaliriSusefi/Lake-Monitoring-Sentinel2/blob/main/LakeMonitoring.ipynb\" target=\"_parent\"><img src=\"https://colab.research.google.com/assets/colab-badge.svg\" alt=\"Open In Colab\"/></a>"
      ]
    },
    {
      "cell_type": "code",
      "execution_count": 2,
      "metadata": {
        "id": "I6XeSXa6E6w1"
      },
      "outputs": [],
      "source": [
        "! pip install xee -q"
      ]
    },
    {
      "cell_type": "code",
      "source": [
        "import ee\n",
        "import geemap\n",
        "import xarray as xr\n",
        "import xee\n",
        "from sklearn.cluster import KMeans\n",
        "import matplotlib.pyplot as plt\n",
        "import pandas as pd\n",
        "from matplotlib.ticker import FormatStrFormatter\n",
        "import matplotlib.colors as mcolors"
      ],
      "metadata": {
        "id": "JvxoVIaWE-Ip"
      },
      "execution_count": 3,
      "outputs": []
    },
    {
      "cell_type": "code",
      "source": [
        "ee.Authenticate()\n",
        "ee.Initialize(project=\"Your google earh engine project name\", opt_url='https://earthengine-highvolume.googleapis.com')"
      ],
      "metadata": {
        "colab": {
          "base_uri": "https://localhost:8080/",
          "height": 17
        },
        "id": "ic2ASNqvFF5i",
        "outputId": "3e8cccd0-a9e7-49dc-f0f8-00ab8819c66e"
      },
      "execution_count": 5,
      "outputs": [
        {
          "output_type": "display_data",
          "data": {
            "text/plain": [
              "<IPython.core.display.HTML object>"
            ],
            "text/html": [
              "\n",
              "            <style>\n",
              "                .geemap-dark {\n",
              "                    --jp-widgets-color: white;\n",
              "                    --jp-widgets-label-color: white;\n",
              "                    --jp-ui-font-color1: white;\n",
              "                    --jp-layout-color2: #454545;\n",
              "                    background-color: #383838;\n",
              "                }\n",
              "\n",
              "                .geemap-dark .jupyter-button {\n",
              "                    --jp-layout-color3: #383838;\n",
              "                }\n",
              "\n",
              "                .geemap-colab {\n",
              "                    background-color: var(--colab-primary-surface-color, white);\n",
              "                }\n",
              "\n",
              "                .geemap-colab .jupyter-button {\n",
              "                    --jp-layout-color3: var(--colab-primary-surface-color, white);\n",
              "                }\n",
              "            </style>\n",
              "            "
            ]
          },
          "metadata": {}
        }
      ]
    },
    {
      "cell_type": "code",
      "source": [
        "# Select the area of intrest\n",
        "map=geemap.Map(basemap=\"SATELLITE\")\n",
        "map"
      ],
      "metadata": {
        "id": "bB4iEXZ0FTtM"
      },
      "execution_count": 11,
      "outputs": []
    },
    {
      "cell_type": "code",
      "source": [
        "roi = map.draw_last_feature.geometry()\n",
        "\n",
        "start_time = '2015-01-01'\n",
        "end_time = '2024-12-31'\n",
        "\n",
        "sentinel = ee.ImageCollection(\"COPERNICUS/S2_HARMONIZED\").filterBounds(roi).filterDate(start_time,end_time).filter(ee.Filter.lt('CLOUDY_PIXEL_PERCENTAGE', 30)).select((['B3', 'B8']));\n",
        "def add_year(img):\n",
        "    date = ee.Date(img.get('system:time_start'))\n",
        "    year = date.get('year')\n",
        "    return img.set('year', year)\n",
        "\n",
        "sentinel_with_year = sentinel.map(add_year)\n",
        "\n"
      ],
      "metadata": {
        "id": "2ykywJBiFvBq"
      },
      "execution_count": 11,
      "outputs": []
    },
    {
      "cell_type": "code",
      "source": [
        "years = sentinel_with_year.aggregate_array('year').distinct().sort()\n",
        "\n",
        "def yearly_mean(year):\n",
        "    year = ee.Number(year)\n",
        "    filtered = sentinel_with_year.filter(ee.Filter.eq('year', year))\n",
        "    mean_image = filtered.mean().set('year', year)\n",
        "    return mean_image\n",
        "\n",
        "yearly_means = ee.ImageCollection(years.map(yearly_mean))"
      ],
      "metadata": {
        "colab": {
          "base_uri": "https://localhost:8080/",
          "height": 17
        },
        "id": "IF97900vS1OI",
        "outputId": "31f5245a-9caa-42d8-cb4e-b59812b92635"
      },
      "execution_count": 8,
      "outputs": [
        {
          "output_type": "display_data",
          "data": {
            "text/plain": [
              "<IPython.core.display.HTML object>"
            ],
            "text/html": [
              "\n",
              "            <style>\n",
              "                .geemap-dark {\n",
              "                    --jp-widgets-color: white;\n",
              "                    --jp-widgets-label-color: white;\n",
              "                    --jp-ui-font-color1: white;\n",
              "                    --jp-layout-color2: #454545;\n",
              "                    background-color: #383838;\n",
              "                }\n",
              "\n",
              "                .geemap-dark .jupyter-button {\n",
              "                    --jp-layout-color3: #383838;\n",
              "                }\n",
              "\n",
              "                .geemap-colab {\n",
              "                    background-color: var(--colab-primary-surface-color, white);\n",
              "                }\n",
              "\n",
              "                .geemap-colab .jupyter-button {\n",
              "                    --jp-layout-color3: var(--colab-primary-surface-color, white);\n",
              "                }\n",
              "            </style>\n",
              "            "
            ]
          },
          "metadata": {}
        }
      ]
    },
    {
      "cell_type": "code",
      "source": [
        "def ndwi(img):\n",
        "     index = img.normalizedDifference(['B3', 'B8']).rename('ndwi')\n",
        "     return index.copyProperties(img, img.propertyNames())\n",
        "\n",
        "ndwi_yearly = yearly_means.map(ndwi)"
      ],
      "metadata": {
        "id": "Q9zW9fbRTxAD"
      },
      "execution_count": 11,
      "outputs": []
    },
    {
      "cell_type": "code",
      "source": [
        "years = ndwi_yearly.aggregate_array('year').getInfo()\n",
        "\n",
        "ds = xr.open_dataset(ndwi_yearly, engine='ee', crs='EPSG:4326', scale=0.00009, geometry=roi)\n",
        "\n",
        "new_time = pd.to_datetime([str(y) for y in years]).year\n",
        "ds['time'] = new_time\n",
        "\n",
        "ndwi_annual = ds['ndwi']\n",
        "\n",
        "g = ndwi_annual.plot(\n",
        "    x='lon',\n",
        "    y='lat',\n",
        "    cmap='Blues',\n",
        "    col='time',\n",
        "    col_wrap=5,\n",
        "    robust=True\n",
        ")\n",
        "\n",
        "for ax in g.axes.flat:\n",
        "    ax.xaxis.set_major_formatter(FormatStrFormatter('%.2f'))\n",
        "    ax.yaxis.set_major_formatter(FormatStrFormatter('%.2f'))\n",
        "\n",
        "\n",
        "plt.savefig('lake_desiccation.png', dpi=360, bbox_inches='tight')\n"
      ],
      "metadata": {
        "id": "X56gnBLDUFXY"
      },
      "execution_count": 11,
      "outputs": []
    },
    {
      "cell_type": "code",
      "source": [
        "df = ds.to_dataframe().reset_index()\n",
        "\n",
        "df = df.dropna(subset=['ndwi'])\n",
        "\n",
        "model = KMeans(n_clusters=2, random_state=42)\n",
        "df['clustering'] = model.fit_predict(df[['ndwi']])\n",
        "\n",
        "xarr = df.set_index(['time', 'lat', 'lon']).to_xarray()\n",
        "\n",
        "xarr = xarr.sortby('lon').sortby('lat')\n",
        "\n",
        "\n",
        "lake_pixels_per_year = (xarr.clustering == 1).sum(dim=['lat', 'lon'])\n",
        "\n",
        "lake_area_km2 = lake_pixels_per_year * 100 / 1_000_000  # each pixel = 900 m²\n",
        "lake_area_values = lake_area_km2.values\n",
        "\n",
        "years = xarr['time'].values\n",
        "n_years = len(years)\n",
        "n_cols = 5\n",
        "n_rows = (n_years + n_cols - 1) // n_cols\n",
        "\n",
        "fig, axes = plt.subplots(n_rows, n_cols, figsize=(20, 4 * n_rows), constrained_layout=True)\n",
        "axes = axes.flatten()\n",
        "\n",
        "for i, year in enumerate(years):\n",
        "    data = xarr.clustering.sel(time=year)\n",
        "    im = data.plot(\n",
        "        ax=axes[i],\n",
        "        x='lon',\n",
        "        y='lat',\n",
        "        cmap='Blues',\n",
        "        add_colorbar=False\n",
        "    )\n",
        "    year_str = pd.to_datetime(str(year)).year\n",
        "    area = lake_area_values[i]\n",
        "    axes[i].set_title(f\"{year_str}\")\n",
        "    axes[i].text(\n",
        "        0.05, 0.05,\n",
        "        f\"Lake area: {area:.1f} km²\",\n",
        "        transform=axes[i].transAxes,\n",
        "        fontsize=10,\n",
        "        bbox=dict(facecolor='white', alpha=0.7, boxstyle='round,pad=0.3')\n",
        "    )\n",
        "\n",
        "for j in range(i + 1, len(axes)):\n",
        "    axes[j].axis('off')\n",
        "\n",
        "plt.savefig(\"lake_clustering_with_area_labels.png\", dpi=360, bbox_inches='tight')\n",
        "plt.show()"
      ],
      "metadata": {
        "id": "8-jwE7XFUVB5"
      },
      "execution_count": 11,
      "outputs": []
    }
  ]
}